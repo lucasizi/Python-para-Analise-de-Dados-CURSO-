{
 "cells": [
  {
   "cell_type": "markdown",
   "metadata": {},
   "source": [
    "##### Documentação \n",
    "\n",
    "https://www.psycopg.org/docs/\n",
    "\n",
    "https://www.postgresql.org/docs/current/plpython.html"
   ]
  },
  {
   "cell_type": "code",
   "execution_count": null,
   "metadata": {},
   "outputs": [],
   "source": [
    "#pip install psycopg2\n",
    "\n",
    "\n",
    "'''\n",
    "dbname   = 'seu_banco_de_dados'\n",
    "user     = 'seu_usuario'\n",
    "password = 'sua_senha'\n",
    "host     = 'localhost'\n",
    "port     = '5432' \n",
    "\n",
    "'''"
   ]
  },
  {
   "cell_type": "code",
   "execution_count": 1,
   "metadata": {},
   "outputs": [
    {
     "name": "stdout",
     "output_type": "stream",
     "text": [
      "Cabeçalho da tabela:\n",
      "['id', 'nome', 'idade', 'endereco']\n",
      "A tabela está vazia.\n",
      "Script executado com sucesso!\n"
     ]
    }
   ],
   "source": [
    "import psycopg2\n",
    "\n",
    "# Parâmetros de conexão\n",
    "dbname   = 'postgres'\n",
    "user     = 'postgres'\n",
    "password = '12345'\n",
    "host     = 'localhost'\n",
    "port     = '5432'\n",
    "\n",
    "try:\n",
    "    # Criar uma conexão\n",
    "    conn = psycopg2.connect(dbname=dbname,\n",
    "                            user=user,\n",
    "                            password=password,\n",
    "                            host=host,\n",
    "                            port=port)\n",
    "    cur = conn.cursor() # Criar um cursor que deixa manipular os dados\n",
    "\n",
    "    # comandos sql transct-sql\n",
    "    select = ''' SELECT * FROM exemplo '''\n",
    "    cur.execute(select)\n",
    "    \n",
    "    # Recuperar os nomes das colunas\n",
    "    colnames = [desc[0] for desc in cur.description]\n",
    "    \n",
    "    # Imprimir os nomes das colunas\n",
    "    print(\"Cabeçalho da tabela:\")\n",
    "    print(colnames)\n",
    "    \n",
    "    # Recuperar e imprimir os resultados (se houver)\n",
    "    rows = cur.fetchall()\n",
    "    if rows:\n",
    "        for row in rows:\n",
    "            print(row)\n",
    "    else:\n",
    "        print(\"A tabela está vazia.\")\n",
    "\n",
    "    # Fechar o cursor e a conexão\n",
    "    cur.close()\n",
    "    conn.close()\n",
    "    \n",
    "    print(\"Script executado com sucesso!\")\n",
    "\n",
    "except Exception as e:\n",
    "    print(f\"Ocorreu um erro: {e}\")\n"
   ]
  }
 ],
 "metadata": {
  "kernelspec": {
   "display_name": "Python 3",
   "language": "python",
   "name": "python3"
  },
  "language_info": {
   "codemirror_mode": {
    "name": "ipython",
    "version": 3
   },
   "file_extension": ".py",
   "mimetype": "text/x-python",
   "name": "python",
   "nbconvert_exporter": "python",
   "pygments_lexer": "ipython3",
   "version": "3.10.5"
  }
 },
 "nbformat": 4,
 "nbformat_minor": 2
}
